{
 "cells": [
  {
   "cell_type": "code",
   "execution_count": 6,
   "metadata": {},
   "outputs": [],
   "source": [
    "from datetime import datetime\n",
    "import numpy as np\n",
    "import pickle"
   ]
  },
  {
   "cell_type": "code",
   "execution_count": 2,
   "metadata": {},
   "outputs": [
    {
     "data": {
      "text/plain": [
       "'30/04/2020'"
      ]
     },
     "execution_count": 2,
     "metadata": {},
     "output_type": "execute_result"
    }
   ],
   "source": [
    "import datetime as dt\n",
    "from datetime import datetime\n",
    "import numpy as np\n",
    "import pickle\n",
    "\n",
    "model = pickle.load(open(\"G:\\ODtutorial\\FlaskAPIForServerSidePrediction\\PredictModel.sav\", 'rb'))\n",
    "\n",
    "dmc_name = np.float(\"3\")\n",
    "input_date = np.float(((dt.date.today().toordinal()-datetime(1900,1,1).toordinal())))\n",
    "output_date = model.predict(np.array([[dmc_name,input_date]]))\n",
    "\n",
    "output_date = datetime.fromordinal(datetime(1900,1,1).toordinal()+ int(output_date[0]))\n",
    "\n",
    "output_date =str(output_date.date()).split(\"-\")\n",
    "output_date.reverse()\n",
    "\"/\".join(output_date)"
   ]
  },
  {
   "cell_type": "code",
   "execution_count": null,
   "metadata": {},
   "outputs": [],
   "source": []
  }
 ],
 "metadata": {
  "kernelspec": {
   "display_name": "Python 3",
   "language": "python",
   "name": "python3"
  },
  "language_info": {
   "codemirror_mode": {
    "name": "ipython",
    "version": 3
   },
   "file_extension": ".py",
   "mimetype": "text/x-python",
   "name": "python",
   "nbconvert_exporter": "python",
   "pygments_lexer": "ipython3",
   "version": "3.6.10"
  }
 },
 "nbformat": 4,
 "nbformat_minor": 4
}
