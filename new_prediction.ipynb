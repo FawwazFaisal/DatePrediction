{
 "cells": [
  {
   "cell_type": "code",
   "execution_count": 6,
   "metadata": {},
   "outputs": [],
   "source": [
    "from datetime import datetime\n",
    "import numpy as np\n",
    "import pickle"
   ]
  },
  {
   "cell_type": "code",
   "execution_count": 7,
   "metadata": {},
   "outputs": [],
   "source": [
    "def floatHourToTime(fh):\n",
    "    h, r = divmod(fh, 1)\n",
    "    m, r = divmod(r*60, 1)\n",
    "    return (int(h),int(m),int(r*60))"
   ]
  },
  {
   "cell_type": "code",
   "execution_count": 8,
   "metadata": {},
   "outputs": [],
   "source": [
    "model = pickle.load(open(\"G:\\ODtutorial\\FlaskAPIForServerSidePrediction\\PredictModel.sav\", 'rb'))"
   ]
  },
  {
   "cell_type": "code",
   "execution_count": 9,
   "metadata": {},
   "outputs": [],
   "source": [
    "dmc_name = 1\n",
    "time = 43120.2917\n",
    "result = model.predict(np.array([[dmc_name,time]]))"
   ]
  },
  {
   "cell_type": "code",
   "execution_count": 10,
   "metadata": {},
   "outputs": [
    {
     "data": {
      "text/plain": [
       "'Complaint Launched on: 2018-01-20 00:17:30 will be resolved on: 2018-01-23 00:17:30'"
      ]
     },
     "execution_count": 10,
     "metadata": {},
     "output_type": "execute_result"
    }
   ],
   "source": [
    "result_date = datetime.fromordinal(datetime(1900, 1, 1).toordinal() + int(result) - 2)\n",
    "input_date = datetime.fromordinal(datetime(1900, 1, 1).toordinal() + int(time) - 2)\n",
    "hour, minute, second = floatHourToTime(result % 1)\n",
    "hour, minute, second = floatHourToTime(time % 1)\n",
    "result_date = result_date.replace(hour=hour, minute=minute, second=second)\n",
    "input_date = input_date.replace(hour=hour, minute=minute, second=second)\n",
    "final_result =\"Complaint Launched on: \"+ str(input_date)+\" will be resolved on: \"+str(result_date)\n",
    "final_result"
   ]
  },
  {
   "cell_type": "code",
   "execution_count": null,
   "metadata": {},
   "outputs": [],
   "source": []
  }
 ],
 "metadata": {
  "kernelspec": {
   "display_name": "Python 3",
   "language": "python",
   "name": "python3"
  },
  "language_info": {
   "codemirror_mode": {
    "name": "ipython",
    "version": 3
   },
   "file_extension": ".py",
   "mimetype": "text/x-python",
   "name": "python",
   "nbconvert_exporter": "python",
   "pygments_lexer": "ipython3",
   "version": "3.6.10"
  }
 },
 "nbformat": 4,
 "nbformat_minor": 4
}
